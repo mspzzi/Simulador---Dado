{
  "nbformat": 4,
  "nbformat_minor": 0,
  "metadata": {
    "colab": {
      "name": "Rolagem de dado",
      "provenance": [],
      "authorship_tag": "ABX9TyM8ijZlccO0XTJf06obvDD7",
      "include_colab_link": true
    },
    "kernelspec": {
      "name": "python3",
      "display_name": "Python 3"
    },
    "language_info": {
      "name": "python"
    }
  },
  "cells": [
    {
      "cell_type": "markdown",
      "metadata": {
        "id": "view-in-github",
        "colab_type": "text"
      },
      "source": [
        "<a href=\"https://colab.research.google.com/github/mspzzi/mspzzi/blob/main/Rolagem_de_dado.ipynb\" target=\"_parent\"><img src=\"https://colab.research.google.com/assets/colab-badge.svg\" alt=\"Open In Colab\"/></a>"
      ]
    },
    {
      "cell_type": "code",
      "execution_count": 3,
      "metadata": {
        "colab": {
          "base_uri": "https://localhost:8080/"
        },
        "id": "ciJa0aq4qnpi",
        "outputId": "e6f94092-475b-41b9-c9c8-742076feafde"
      },
      "outputs": [
        {
          "name": "stdout",
          "output_type": "stream",
          "text": [
            "O número mostrado no dado foi:  6\n",
            "Quer jogar o dado novamente?\n",
            "sim\n",
            "O número mostrado no dado foi:  3\n",
            "Quer jogar o dado novamente?\n",
            "sim\n",
            "O número mostrado no dado foi:  4\n",
            "Quer jogar o dado novamente?\n",
            "não\n"
          ]
        }
      ],
      "source": [
        "# sintaxe da função = random.randint(x, y)\n",
        "\n",
        "from random import randint\n",
        "repetir_jogada = True\n",
        "while repetir_jogada:\n",
        "    print(\"O número mostrado no dado foi: \",randint(1,6))\n",
        "    print(\"Quer jogar o dado novamente?\")\n",
        "    repetir_jogada = (\"sim\") in input().lower()"
      ]
    }
  ]
}